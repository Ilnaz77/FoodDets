{
 "metadata": {
  "language_info": {
   "codemirror_mode": {
    "name": "ipython",
    "version": 3
   },
   "file_extension": ".py",
   "mimetype": "text/x-python",
   "name": "python",
   "nbconvert_exporter": "python",
   "pygments_lexer": "ipython3",
   "version": "3.8.10"
  },
  "orig_nbformat": 2,
  "kernelspec": {
   "name": "python3",
   "display_name": "Python 3.8.10 64-bit ('detection': conda)"
  },
  "metadata": {
   "interpreter": {
    "hash": "fc6ea66d75232951565bbb1886cb59c4dd1e8feebc316329a97cc8bd2f88bf78"
   }
  },
  "interpreter": {
   "hash": "fc6ea66d75232951565bbb1886cb59c4dd1e8feebc316329a97cc8bd2f88bf78"
  }
 },
 "nbformat": 4,
 "nbformat_minor": 2,
 "cells": [
  {
   "cell_type": "code",
   "execution_count": 1,
   "metadata": {},
   "outputs": [
    {
     "output_type": "stream",
     "name": "stdout",
     "text": [
      "Overall 65596 labeled ground truth bboxes.\nOverall 750 classes contain this dataset.\nOverall 8 no annotated images.\n"
     ]
    }
   ],
   "source": [
    "import json\n",
    "import os\n",
    "import collections\n",
    "import matplotlib.pyplot as plt\n",
    "import cv2\n",
    "import numpy as np\n",
    "from time import sleep\n",
    "import pandas as pd\n",
    "from sklearn.model_selection import train_test_split\n",
    "import shutil\n",
    "\n",
    "path_name = './data_raw/'\n",
    "files = os.listdir(path_name)\n",
    "labels = collections.Counter()\n",
    "empty_images = 0\n",
    "\n",
    "labels_dict = {}\n",
    "all_data = []\n",
    "\n",
    "with open('./new_data/classes.txt', 'r') as f:\n",
    "    for i, label in enumerate(f):\n",
    "        labels_dict[label.strip()] = i\n",
    "        \n",
    "images = 0\n",
    "for file in files:\n",
    "    if file[-5:] == '.json':\n",
    "        with open(os.path.join(path_name, file), 'r') as f:\n",
    "            input_abs_image_path = os.path.join(path_name, file[:-5] + '.jpg')\n",
    "            data = json.load(f)\n",
    "            if len(data['shapes']) == 0:\n",
    "                empty_images += 1\n",
    "            for object in data['shapes']:\n",
    "                label = labels_dict[object['label'].replace(' ', '_')]\n",
    "                bbox_coord = np.array(object['points'])\n",
    "                if len(bbox_coord) < 4:\n",
    "                    continue # Потому что там разметка прям совсем кривая\n",
    "                x_max, y_max = bbox_coord.max(0)\n",
    "                x_min, y_min = bbox_coord.min(0)\n",
    "\n",
    "                # assert False\n",
    "                labels[label] += 1\n",
    "                all_data.append([str(input_abs_image_path), float(x_min), float(y_min), float(x_max), float(y_max), int(label)])\n",
    "            \n",
    "                # break\n",
    "        # break\n",
    "                \n",
    "print(f'Overall {sum(labels.values())} labeled ground truth bboxes.')\n",
    "print(f'Overall {len(labels)} classes contain this dataset.')  \n",
    "print(f'Overall {empty_images} no annotated images.')  \n",
    "all_data = np.array(all_data)"
   ]
  },
  {
   "cell_type": "code",
   "execution_count": 1,
   "metadata": {},
   "outputs": [],
   "source": [
    "data=[]\n",
    "with open('new_data/classes.txt', 'r') as f:\n",
    "    for line in f:\n",
    "        data.append(line.strip())\n",
    "with open('new_data/classes.names', 'w') as f:\n",
    "    for line in data:\n",
    "        f.write(line.strip()+'\\n')"
   ]
  },
  {
   "cell_type": "code",
   "execution_count": 2,
   "metadata": {},
   "outputs": [],
   "source": [
    "X = all_data[:,:-1]\n",
    "y = all_data[:,-1]\n",
    "\n",
    "upsample_needed_labels = np.unique(y, return_counts=True)[0][np.unique(y, return_counts=True)[1] < 3]\n",
    "upsample_needed_labels = dict(zip(upsample_needed_labels, np.zeros(upsample_needed_labels.shape)))\n",
    "\n",
    "upsample_samples = []\n",
    "for sample in all_data:\n",
    "    if sample[-1] in upsample_needed_labels:\n",
    "        if upsample_needed_labels[sample[-1]] < 3:\n",
    "            upsample_samples.append(sample)\n",
    "            upsample_needed_labels[sample[-1]] += 1\n",
    "\n",
    "joined_upsample_and_all_data = np.concatenate((all_data, upsample_samples), axis=0)"
   ]
  },
  {
   "cell_type": "code",
   "execution_count": 3,
   "metadata": {},
   "outputs": [
    {
     "output_type": "stream",
     "name": "stdout",
     "text": [
      "Итого ббоксов после апсэмпла:  65739\n"
     ]
    }
   ],
   "source": [
    "print(\"Итого ббоксов после апсэмпла: \", len(joined_upsample_and_all_data))"
   ]
  },
  {
   "cell_type": "code",
   "execution_count": 4,
   "metadata": {},
   "outputs": [],
   "source": [
    "X_train, X_test, y_train, y_test = train_test_split(joined_upsample_and_all_data[:,:-1], joined_upsample_and_all_data[:,-1], test_size=0.5,                                                                     random_state=42, stratify=joined_upsample_and_all_data[:,-1])"
   ]
  },
  {
   "cell_type": "code",
   "execution_count": 5,
   "metadata": {},
   "outputs": [
    {
     "output_type": "stream",
     "name": "stdout",
     "text": [
      "(32869, 5) (32869,) 750 750\nСуммарное кол-во ббоксов в трэйне:  (32869, 6) Суммарное кол-во ббоксов в тесте:  (32870, 6) Сумма:  65739\n"
     ]
    }
   ],
   "source": [
    "print(X_train.shape, y_train.shape, len(np.unique(y_train)), len(np.unique(y_test)))\n",
    "train_data = np.concatenate((X_train, y_train.reshape(-1,1)), axis=1)\n",
    "val_data = np.concatenate((X_test, y_test.reshape(-1,1)), axis=1)\n",
    "print('Суммарное кол-во ббоксов в трэйне: ', train_data.shape, \"Суммарное кол-во ббоксов в тесте: \", val_data.shape, 'Сумма: ', train_data.shape[0] + val_data.shape[0])"
   ]
  },
  {
   "cell_type": "code",
   "execution_count": 6,
   "metadata": {},
   "outputs": [],
   "source": [
    "merge_train_data = {} # collections.defaultdict(list)\n",
    "merge_val_data = {} # collections.defaultdict(list)\n",
    "\n",
    "for sample in train_data:\n",
    "    if sample[0] not in merge_train_data:\n",
    "        merge_train_data[sample[0]] = []\n",
    "    merge_train_data[sample[0]].append(sample[1:])\n",
    "\n",
    "for sample in val_data:\n",
    "    if sample[0] not in merge_val_data:\n",
    "        merge_val_data[sample[0]] = []\n",
    "    merge_val_data[sample[0]].append(sample[1:])\n"
   ]
  },
  {
   "cell_type": "code",
   "execution_count": 7,
   "metadata": {},
   "outputs": [
    {
     "output_type": "stream",
     "name": "stdout",
     "text": [
      "Было перемещено ббоксы изображений из вал в трэйн 11919\n"
     ]
    }
   ],
   "source": [
    "counter = 0\n",
    "del_keys = []\n",
    "for key in merge_val_data.keys():\n",
    "    if key in merge_train_data:\n",
    "        del_keys.append(key)\n",
    "        infos = merge_val_data[key]\n",
    "        for info in infos:\n",
    "            a = sum([True if all(info == elem) else False for elem in merge_train_data[key]])\n",
    "            if not a:\n",
    "                merge_train_data[key].append(info)\n",
    "        counter += 1\n",
    "for key in del_keys:\n",
    "    del merge_val_data[key]\n",
    "    \n",
    "print(\"Было перемещено ббоксы изображений из вал в трэйн\" , counter)"
   ]
  },
  {
   "cell_type": "code",
   "execution_count": 9,
   "metadata": {},
   "outputs": [
    {
     "output_type": "stream",
     "name": "stdout",
     "text": [
      "Итого картинок:  14715\nИтого меток в трэйне:  750\nИтого меток в тесте:  449\nИтого суммарное число ббоксов:  65613\nИтого ббоксов в валидации:  3620\nИтого ббоксов в трэйне:  61993\n"
     ]
    }
   ],
   "source": [
    "print(\"Итого картинок: \", len(merge_val_data) + len(merge_train_data)) # 14715\n",
    "counter_train, counter_val = 0,0\n",
    "\n",
    "counter_target = []\n",
    "for value in merge_train_data.values():\n",
    "    counter_train += len(value)\n",
    "    counter_target.append([i[-1] for i in value])\n",
    "print(\"Итого меток в трэйне: \", len(np.unique(np.concatenate(counter_target))))\n",
    "\n",
    "counter_target = []\n",
    "for value in merge_val_data.values():\n",
    "    counter_val += len(value)\n",
    "    counter_target.append([i[-1] for i in value])\n",
    "print(\"Итого меток в тесте: \", len(np.unique(np.concatenate(counter_target))))\n",
    "\n",
    "print(\"Итого суммарное число ббоксов: \", counter_train + counter_val)\n",
    "print(\"Итого ббоксов в валидации: \", counter_val)\n",
    "print(\"Итого ббоксов в трэйне: \",counter_train)"
   ]
  },
  {
   "cell_type": "code",
   "execution_count": 36,
   "metadata": {},
   "outputs": [
    {
     "output_type": "stream",
     "name": "stdout",
     "text": [
      "Суммарное кол-во картинок в трэйне:  13310 Суммарное кол-во картинок в тесте:  1405\n"
     ]
    }
   ],
   "source": [
    "print('Суммарное кол-во картинок в трэйне: ', len(merge_train_data), \"Суммарное кол-во картинок в тесте: \", len(merge_val_data))"
   ]
  },
  {
   "cell_type": "code",
   "execution_count": 37,
   "metadata": {},
   "outputs": [],
   "source": [
    "def xyxy2darknet(x_min, y_min, x_max, y_max, image_path):\n",
    "    img = cv2.imread(image_path)\n",
    "    height, width, _ = img.shape\n",
    "    x_min, y_min, x_max, y_max = x_min, y_min, x_max, y_max\n",
    "    w = x_max - x_min\n",
    "    h = y_max - y_min\n",
    "    cx = x_min + w/2\n",
    "    cy = y_min + h/2\n",
    "    return cx/width, cy/height, w/width, h/height\n",
    "\n",
    "def create_paths():\n",
    "    output_path = 'new_data/'\n",
    "    if not os.path.isdir(output_path):\n",
    "        os.mkdir(output_path)\n",
    "    else:\n",
    "        shutil.rmtree(output_path)\n",
    "        os.mkdir(output_path)\n",
    "\n",
    "    if not os.path.isdir(os.path.join(output_path, 'images')):\n",
    "        os.mkdir(os.path.join(output_path, 'images'))\n",
    "\n",
    "    if not os.path.isdir(os.path.join(output_path, 'labels')):\n",
    "        os.mkdir(os.path.join(output_path, 'labels'))\n",
    "\n",
    "def create_dataset(classes, files, train_test='train'):\n",
    "    input_path = 'data_raw/'\n",
    "    output_path = 'new_data/'\n",
    "\n",
    "    image_folder = os.path.join(output_path, f'images/{train_test}/')\n",
    "    label_folder = os.path.join(output_path, f'labels/{train_test}/')\n",
    "\n",
    "    if not os.path.isdir(image_folder):\n",
    "        os.mkdir(image_folder)\n",
    "    \n",
    "    if not os.path.isdir(label_folder):\n",
    "        os.mkdir(label_folder)\n",
    "    \n",
    "    if os.path.isfile(os.path.join(output_path, f'{train_test}.txt')):\n",
    "        shutil.remove(os.path.join(output_path, f'{train_test}.txt'))\n",
    "\n",
    "    labels = {}\n",
    "\n",
    "    with open(os.path.join('./new_data/', 'classes.txt'), 'w') as f:\n",
    "        for label in classes.keys():\n",
    "            f.write(label.strip().replace(' ', '_')+'\\n')\n",
    "\n",
    "    with open('./new_data/classes.txt', 'r') as f:\n",
    "        for i, label in enumerate(f):\n",
    "            labels[label.strip()] = i\n",
    "    \n",
    "    for file in files.keys():\n",
    "        input_abs_image_path = file\n",
    "        output_abs_image_path = file.replace('./data_raw/', image_folder)\n",
    "        output_abs_labels_path = file.replace('./data_raw/', label_folder)[:-4] + '.txt'\n",
    "        \n",
    "        bboxes_with_classes = files[file]\n",
    "        assert len(bboxes_with_classes) != 0\n",
    "        with open(os.path.join(output_path, f'{train_test}.txt'), 'a') as f:\n",
    "            f.write(output_abs_image_path + '\\n')\n",
    "        shutil.copy(input_abs_image_path, output_abs_image_path)\n",
    "        with open(output_abs_labels_path, 'w') as f:\n",
    "            for bbox_w_class in bboxes_with_classes:\n",
    "                x_min, y_min, x_max, y_max = list(map(float, bbox_w_class[:-1]))\n",
    "                label = int(bbox_w_class[-1])\n",
    "                x, y, w, h = xyxy2darknet(x_min, y_min, x_max, y_max, input_abs_image_path)\n",
    "                box_info = f'{label} {x} {y} {w} {h}' + '\\n'\n",
    "                f.write(box_info)\n",
    "\n",
    "                    \n",
    "\n",
    "create_paths()\n",
    "create_dataset(labels_dict, merge_train_data, 'train')\n",
    "create_dataset(labels_dict, merge_val_data, 'val')"
   ]
  },
  {
   "cell_type": "code",
   "execution_count": null,
   "metadata": {},
   "outputs": [],
   "source": []
  },
  {
   "cell_type": "code",
   "execution_count": null,
   "metadata": {},
   "outputs": [],
   "source": []
  },
  {
   "cell_type": "code",
   "execution_count": null,
   "metadata": {},
   "outputs": [],
   "source": []
  },
  {
   "cell_type": "code",
   "execution_count": null,
   "metadata": {},
   "outputs": [],
   "source": []
  },
  {
   "cell_type": "code",
   "execution_count": null,
   "metadata": {},
   "outputs": [],
   "source": []
  }
 ]
}